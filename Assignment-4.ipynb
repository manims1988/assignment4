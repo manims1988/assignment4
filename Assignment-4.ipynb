{
 "cells": [
  {
   "cell_type": "markdown",
   "id": "d449e5d0-6bda-42d6-9ce8-952827ad19db",
   "metadata": {},
   "source": [
    "1. What exactly is []?"
   ]
  },
  {
   "cell_type": "code",
   "execution_count": 23,
   "id": "c875d084-9497-4680-93a3-a26e66e34e3f",
   "metadata": {},
   "outputs": [
    {
     "name": "stdout",
     "output_type": "stream",
     "text": [
      "[] -> its a empty list\n"
     ]
    }
   ],
   "source": [
    "# Answer \n",
    "\n",
    "print('[] -> its a empty list')"
   ]
  },
  {
   "cell_type": "markdown",
   "id": "9216d559-37c6-4c2a-94d7-e65cdca4cf02",
   "metadata": {},
   "source": [
    "2. In a list of values stored in a variable called spam, how would you assign the value 'hello' as the third value? (Assume [2, 4, 6, 8, 10] are in spam.)\n",
    "Let's pretend the spam includes the list ['a', 'b', 'c', 'd'] for the next three queries."
   ]
  },
  {
   "cell_type": "code",
   "execution_count": 24,
   "id": "27aa1a4f-e9db-474c-888a-9c9b6a435d30",
   "metadata": {},
   "outputs": [
    {
     "name": "stdout",
     "output_type": "stream",
     "text": [
      "[2, 4, 'hello', 6, 8, 10]\n",
      "['a', 'b', 'hello', 'c', 'd']\n"
     ]
    }
   ],
   "source": [
    "# Answer \n",
    "\n",
    "spam = [2,4,6,8,10]\n",
    "spam.insert(2,'hello')\n",
    "print(spam)\n",
    "\n",
    "spam = ['a','b','c','d']\n",
    "spam.insert(2,'hello')\n",
    "print(spam)"
   ]
  },
  {
   "cell_type": "markdown",
   "id": "67f938b1-fd0d-4be3-a4e9-268a55ab0397",
   "metadata": {},
   "source": [
    "3. What is the value of spam[int(int('3' * 2) / 11)]?"
   ]
  },
  {
   "cell_type": "code",
   "execution_count": 25,
   "id": "b6fd91f5-b99f-43d7-841c-d45c5247c4b5",
   "metadata": {},
   "outputs": [
    {
     "name": "stdout",
     "output_type": "stream",
     "text": [
      "kindly find the below answer\n",
      "spam[int(int('3' * 2) / 11)] -> d\n"
     ]
    }
   ],
   "source": [
    "# Answer \n",
    "\n",
    "print('kindly find the below answer')\n",
    "spam = ['a','b','c','d']\n",
    "spam[int(int('3' * 2) / 11)]\n",
    "spam[int(int('33') / 11)]\n",
    "spam[int(33 / 11)]\n",
    "spam[int(3.0)]\n",
    "print(\"spam[int(int('3' * 2) / 11)] ->\",spam[3])"
   ]
  },
  {
   "cell_type": "markdown",
   "id": "4e4bc31d-26df-4c4e-82a8-e619b5384c7c",
   "metadata": {},
   "source": [
    "4. What is the value of spam[-1]?"
   ]
  },
  {
   "cell_type": "code",
   "execution_count": 26,
   "id": "037cf349-bf38-4dbb-b6e8-35a392eaacdf",
   "metadata": {},
   "outputs": [
    {
     "name": "stdout",
     "output_type": "stream",
     "text": [
      "spam[-1] -> d\n"
     ]
    }
   ],
   "source": [
    "# Answer \n",
    "\n",
    "spam = ['a','b','c','d']\n",
    "print('spam[-1] ->',spam[-1])"
   ]
  },
  {
   "cell_type": "markdown",
   "id": "3b2a7271-f7ed-4320-8c09-cbcfbefb0daf",
   "metadata": {},
   "source": [
    "5. What is the value of spam[:2]?\n",
    "Let's pretend bacon has the list [3.14, 'cat,' 11, 'cat,' True] for the next three questions."
   ]
  },
  {
   "cell_type": "code",
   "execution_count": 27,
   "id": "f997af8e-b3b6-49ae-9069-4a4af0dccf47",
   "metadata": {},
   "outputs": [
    {
     "name": "stdout",
     "output_type": "stream",
     "text": [
      "value of spam[:2] -> ['a', 'b']\n"
     ]
    }
   ],
   "source": [
    "# Answer \n",
    "\n",
    "spam = ['a','b','c','d']\n",
    "print('value of spam[:2] ->',spam[:2])"
   ]
  },
  {
   "cell_type": "markdown",
   "id": "de37ea18-8174-4242-bb7b-8fdb2f4ea1ab",
   "metadata": {},
   "source": [
    "6. What is the value of bacon.index('cat')?"
   ]
  },
  {
   "cell_type": "code",
   "execution_count": 28,
   "id": "63463d95-7087-425f-9192-5f3eb21cd4c5",
   "metadata": {},
   "outputs": [
    {
     "name": "stdout",
     "output_type": "stream",
     "text": [
      "\"cat\" in index value -> 1\n"
     ]
    }
   ],
   "source": [
    "# Answer \n",
    "\n",
    "bacon = [3.14, 'cat', 11, 'cat', True]\n",
    "print('\"cat\" in index value ->',bacon.index('cat'))"
   ]
  },
  {
   "cell_type": "markdown",
   "id": "b40389ba-ba21-4de4-9292-4e8d90d9dc66",
   "metadata": {},
   "source": [
    "7. How does bacon.append(99) change the look of the list value in bacon?"
   ]
  },
  {
   "cell_type": "code",
   "execution_count": 29,
   "id": "c251503c-9445-4385-a5b7-1b3e211390d8",
   "metadata": {},
   "outputs": [
    {
     "name": "stdout",
     "output_type": "stream",
     "text": [
      "yes the bacon list will be modified\n"
     ]
    },
    {
     "data": {
      "text/plain": [
       "[3.14, 'cat', 11, 'cat', True, 99]"
      ]
     },
     "execution_count": 29,
     "metadata": {},
     "output_type": "execute_result"
    }
   ],
   "source": [
    "# Answer\n",
    "\n",
    "print('yes the bacon list will be modified')\n",
    "bacon = [3.14, 'cat', 11, 'cat', True]\n",
    "bacon.append(99)\n",
    "bacon"
   ]
  },
  {
   "cell_type": "markdown",
   "id": "5eefd647-c9e4-4729-8505-2cfb40e1d154",
   "metadata": {},
   "source": [
    "8. How does bacon.remove('cat') change the look of the list in bacon?"
   ]
  },
  {
   "cell_type": "code",
   "execution_count": 30,
   "id": "ad697f6c-deba-49e7-87ba-ae10f3a244cd",
   "metadata": {},
   "outputs": [
    {
     "name": "stdout",
     "output_type": "stream",
     "text": [
      "yes the bacon list will be modified\n"
     ]
    },
    {
     "data": {
      "text/plain": [
       "[3.14, 11, 'cat', True]"
      ]
     },
     "execution_count": 30,
     "metadata": {},
     "output_type": "execute_result"
    }
   ],
   "source": [
    "# Answer \n",
    "\n",
    "print('yes the bacon list will be modified')\n",
    "bacon = [3.14, 'cat', 11, 'cat', True]\n",
    "bacon.remove('cat')\n",
    "bacon"
   ]
  },
  {
   "cell_type": "markdown",
   "id": "40ae81be-1e8d-4473-8282-d7f4f14b89b7",
   "metadata": {},
   "source": [
    "9. What are the list concatenation and list replication operators?"
   ]
  },
  {
   "cell_type": "code",
   "execution_count": 31,
   "id": "bf323de1-44d8-4371-b058-c6f9a1c1a0af",
   "metadata": {},
   "outputs": [
    {
     "name": "stdout",
     "output_type": "stream",
     "text": [
      "List Concatenation Operator: The + operator is used for list concatenation, which combines two or more lists into a single list.\n",
      "[1, 2, 3, 4, 5, 6]\n",
      "List Replication Operator: The * operator is used for list replication, which creates a new list by repeating the elements of a list multiple times.\n",
      "[1, 2, 3, 1, 2, 3, 1, 2, 3]\n"
     ]
    }
   ],
   "source": [
    "# Answer \n",
    "\n",
    "print('List Concatenation Operator: The + operator is used for list concatenation, which combines two or more lists into a single list.')\n",
    "list1 = [1, 2, 3]\n",
    "list2 = [4, 5, 6]\n",
    "concatenated_list = list1 + list2\n",
    "print(concatenated_list)\n",
    "\n",
    "print('List Replication Operator: The * operator is used for list replication, which creates a new list by repeating the elements of a list multiple times.')\n",
    "list1 = [1, 2, 3]\n",
    "repeated_list = list1 * 3\n",
    "print(repeated_list)"
   ]
  },
  {
   "cell_type": "markdown",
   "id": "7afd4a71-06fb-41ad-9f82-023eb4a8b532",
   "metadata": {},
   "source": [
    "10. What is difference between the list methods append() and insert()?"
   ]
  },
  {
   "cell_type": "code",
   "execution_count": 32,
   "id": "aeaad20f-842b-4553-8a11-86aa666fce26",
   "metadata": {},
   "outputs": [
    {
     "name": "stdout",
     "output_type": "stream",
     "text": [
      "append method is used to add an element to the end of a list.\n",
      "[1, 2, 3, 7.9]\n",
      "insert method is used to insert an element at a specific position within the list\n",
      "[1, 'new', 2, 3]\n"
     ]
    }
   ],
   "source": [
    "# Answer \n",
    "\n",
    "print('append method is used to add an element to the end of a list.')\n",
    "append_list = [1,2,3]\n",
    "append_list.append(7.9)\n",
    "print(append_list)\n",
    "\n",
    "print('insert method is used to insert an element at a specific position within the list')\n",
    "insert_list = [1,2,3]\n",
    "insert_list.insert(1,'new')\n",
    "print(insert_list)"
   ]
  },
  {
   "cell_type": "markdown",
   "id": "c255023c-6edc-4439-9525-9c46031df25a",
   "metadata": {},
   "source": [
    "11. What are the two methods for removing items from a list?"
   ]
  },
  {
   "cell_type": "code",
   "execution_count": 33,
   "id": "346b9b0e-f7c0-4ae2-8f7d-8ac542623bb4",
   "metadata": {},
   "outputs": [
    {
     "name": "stdout",
     "output_type": "stream",
     "text": [
      "1. remove\n",
      "2. pop\n",
      "The remove() method is used to remove the first occurrence of a specified element from a list\n",
      "[1, 3, 4]\n",
      "The pop() method is used to remove an element at a specified index from a list\n",
      "[1, 3]\n",
      "2\n"
     ]
    }
   ],
   "source": [
    "# Answer \n",
    "\n",
    "print('1. remove')\n",
    "print('2. pop')\n",
    "print('The remove() method is used to remove the first occurrence of a specified element from a list')\n",
    "my_list = [1, 2, 3, 4]\n",
    "my_list.remove(2)\n",
    "print(my_list)\n",
    "\n",
    "print('The pop() method is used to remove an element at a specified index from a list')\n",
    "my_list = [1, 2, 3]\n",
    "removed_element = my_list.pop(1)\n",
    "print(my_list)\n",
    "print(removed_element)"
   ]
  },
  {
   "cell_type": "markdown",
   "id": "27d6bd70-2e7e-432b-8a33-fd70c441ceec",
   "metadata": {},
   "source": [
    "12. Describe how list values and string values are identical."
   ]
  },
  {
   "cell_type": "code",
   "execution_count": 34,
   "id": "0d9ad527-cb83-490e-ba62-4b3feb23cc25",
   "metadata": {},
   "outputs": [
    {
     "name": "stdout",
     "output_type": "stream",
     "text": [
      "list and string have few similarities\n",
      "1. Index\n",
      "index_list[0] -> 1\n",
      "index_string[1] -> y\n",
      "2. Slicing\n",
      "slicing_list[1:4] -> [2, 3, 4]\n",
      "slicing_string[7:] -> ript\n",
      "3. Length\n",
      "length of list -> 3\n",
      "length of string -> 4\n",
      "4. Iteration\n",
      "index 0 -> 11\n",
      "index 1 -> 21\n",
      "index 2 -> 13\n",
      "index 0 -> m\n",
      "index 1 -> o\n",
      "index 2 -> j\n",
      "index 3 -> o\n",
      "5. Concatenation\n",
      "\n",
      "total_list -> [1, 2, 3, 4, 5, 6]\n",
      "total_str -> hello python\n",
      "6. Replication\n",
      "\n",
      "rep_list * 2 -> [4, 5, 6, 4, 5, 6]\n",
      "rep_str * 2 -> mojomojo\n"
     ]
    }
   ],
   "source": [
    "# Answer \n",
    "\n",
    "print('list and string have few similarities')\n",
    "\n",
    "print('1. Index')\n",
    "index_list = [1, 2, 3]\n",
    "index_string = \"Python\"\n",
    "print('index_list[0] ->',index_list[0])  \n",
    "print('index_string[1] ->',index_string[1])\n",
    "\n",
    "print('2. Slicing')\n",
    "slicing_list = [1, 2, 3, 4, 5]\n",
    "slicing_string = \"Java Script\"\n",
    "print('slicing_list[1:4] ->',slicing_list[1:4]) \n",
    "print('slicing_string[7:] ->',slicing_string[7:])\n",
    "\n",
    "\n",
    "print('3. Length')\n",
    "length_list = [1, 2, 3]\n",
    "length_string = \"Java\"\n",
    "print('length of list ->',len(length_list)) \n",
    "print('length of string ->',len(length_string))\n",
    "\n",
    "print('4. Iteration')\n",
    "iteration_list = [11, 21, 13]\n",
    "iteration_string = \"mojo\"\n",
    "for i in range(len(iteration_list)):\n",
    "    print(f'index {i} -> {iteration_list[i]}')\n",
    "    \n",
    "for j in range(len(iteration_string)):\n",
    "    print(f'index {j} -> {iteration_string[j]}')\n",
    "    \n",
    "print('5. Concatenation\\n')\n",
    "concat_list1 = [1,2,3]\n",
    "concat_list2 = [4,5,6]\n",
    "concat_str1 = 'hello '\n",
    "concat_str2 = 'python'\n",
    "total_list = concat_list1 + concat_list2\n",
    "total_str = concat_str1 + concat_str2\n",
    "print('total_list ->',total_list)\n",
    "print('total_str ->',total_str)\n",
    "\n",
    "print('6. Replication\\n')\n",
    "rep_list = [4,5,6]\n",
    "rep_str = 'mojo'\n",
    "print('rep_list * 2 ->',rep_list * 2)\n",
    "print('rep_str * 2 ->',rep_str * 2)"
   ]
  },
  {
   "cell_type": "markdown",
   "id": "564b87e0-9dfe-4b0b-920d-89e0e97ef3af",
   "metadata": {},
   "source": [
    "13. What's the difference between tuples and lists?"
   ]
  },
  {
   "cell_type": "code",
   "execution_count": 35,
   "id": "35b62cfb-4af9-4bd6-a3b4-dc1b0908d6e7",
   "metadata": {},
   "outputs": [
    {
     "name": "stdout",
     "output_type": "stream",
     "text": [
      "1. Lists -> its a mutable which means we can modify, add, or remove elements. Tuples -> its a immutable, which means we cannot be modified after creation\n",
      "2. Lists -> its represented as [] Tuples -> its represented as ()\n",
      "3. Lists -> less performance in terms of memory Tuples -> Good performance in terms of memory\n"
     ]
    }
   ],
   "source": [
    "# Answer \n",
    "\n",
    "print('1. Lists -> its a mutable which means we can modify, add, or remove elements. Tuples -> its a immutable, which means we cannot be modified after creation')\n",
    "print('2. Lists -> its represented as [] Tuples -> its represented as ()')\n",
    "print('3. Lists -> less performance in terms of memory Tuples -> Good performance in terms of memory')"
   ]
  },
  {
   "cell_type": "markdown",
   "id": "085ef0ed-8cbe-40f4-b1e7-caa218968a17",
   "metadata": {},
   "source": [
    "14. How do you type a tuple value that only contains the integer 42?"
   ]
  },
  {
   "cell_type": "code",
   "execution_count": 36,
   "id": "df5d816b-aa9f-49cf-bd66-ad362966c681",
   "metadata": {},
   "outputs": [
    {
     "name": "stdout",
     "output_type": "stream",
     "text": [
      "(42,)\n",
      "<class 'tuple'>\n"
     ]
    }
   ],
   "source": [
    "# Answer \n",
    "\n",
    "single_tuple = (42,)\n",
    "print(single_tuple)\n",
    "print(type(single_tuple))"
   ]
  },
  {
   "cell_type": "markdown",
   "id": "fbd17e57-7688-43b3-983b-20e6f30d868c",
   "metadata": {},
   "source": [
    "15. How do you get a list value's tuple form? How do you get a tuple value's list form?"
   ]
  },
  {
   "cell_type": "code",
   "execution_count": 37,
   "id": "e9c4d0f3-7a96-4e9c-a193-2d122c9002fb",
   "metadata": {},
   "outputs": [
    {
     "name": "stdout",
     "output_type": "stream",
     "text": [
      "To convert a list value into its tuple form, we have to use tuple() function\n",
      "[1, 2, 3]\n",
      "To convert a tuple value into its list form, we have to use list() function\n",
      "[1, 2, 3]\n"
     ]
    }
   ],
   "source": [
    "# Answer \n",
    "\n",
    "print('To convert a list value into its tuple form, we have to use tuple() function')\n",
    "tuple_value = (1,2,3)\n",
    "tuple_to_list = list(tuple_value)\n",
    "print(tuple_to_list)\n",
    "\n",
    "print('To convert a tuple value into its list form, we have to use list() function')\n",
    "list_value = [1,2,3]\n",
    "list_to_tuple = list(list_value)\n",
    "print(list_to_tuple)"
   ]
  },
  {
   "cell_type": "markdown",
   "id": "efefc4bf-8a0d-44bc-b710-b08a80013c75",
   "metadata": {},
   "source": [
    "16. Variables that \"contain\" list values are not necessarily lists themselves. Instead, what do they contain?"
   ]
  },
  {
   "cell_type": "code",
   "execution_count": 38,
   "id": "ef25b9d3-b875-4ad3-bf55-831664cd7f88",
   "metadata": {},
   "outputs": [
    {
     "name": "stdout",
     "output_type": "stream",
     "text": [
      "When you assign a list to a variable, the variable stores a reference to the memory location where the list object is stored. It means that the variable doesn't directly contain the list data, but rather points to the memory address where the list is stored.\n",
      "list1 id is -> 139800011332160\n",
      "list2 id is -> 139800011332160\n",
      "list2 is -> [10, 2, 3]\n",
      "list1 is -> [10, 2, 3]\n"
     ]
    }
   ],
   "source": [
    "# Answer \n",
    "\n",
    "print(\"When you assign a list to a variable, the variable stores a reference to the memory location where the list object is stored. \\\n",
    "It means that the variable doesn't directly contain the list data, \\\n",
    "but rather points to the memory address where the list is stored.\")\n",
    "\n",
    "list1 = [1, 2, 3]\n",
    "list2 = list1\n",
    "print('list1 id is ->',id(list1))\n",
    "print('list2 id is ->',id(list2))\n",
    "list1[0] = 10\n",
    "print('list2 is ->',list2)\n",
    "print('list1 is ->',list1)"
   ]
  },
  {
   "cell_type": "markdown",
   "id": "e18625e8-56b0-4137-832b-19aef6a311e5",
   "metadata": {},
   "source": [
    "17. How do you distinguish between copy.copy() and copy.deepcopy()?"
   ]
  },
  {
   "cell_type": "code",
   "execution_count": 39,
   "id": "b5cec8d9-5bb3-42f7-a77b-b43a07ff8ec2",
   "metadata": {},
   "outputs": [
    {
     "name": "stdout",
     "output_type": "stream",
     "text": [
      "This function creates a shallow copy of an object which means that a new object is created, but the contents of the object are still references to the same elements as the original object. This behaviour can be observed in the nested list\n",
      "list1 -> [10, [2, 3, 4]]\n",
      "list2 -> [1, [2, 3, 4]]\n",
      "This function creates a deep copy of an object which means that not only a new object is created, but the entire object tree is recursively copied, including all nested objects.\n",
      "list3 -> [9, [7, 8]]\n",
      "list4 -> [6, [7, 8, 10]]\n"
     ]
    }
   ],
   "source": [
    "import copy\n",
    "\n",
    "print('This function creates a shallow copy of an object which means that a new object is created, but the contents of the object are still references to the same elements as the original object. \\\n",
    "This behaviour can be observed in the nested list')\n",
    "list1 = [1, [2, 3]]\n",
    "list2 = copy.copy(list1)\n",
    "list1[0] = 10\n",
    "list1[1].append(4)\n",
    "print('list1 ->',list1)  \n",
    "print('list2 ->',list2)  \n",
    "\n",
    "print('This function creates a deep copy of an object which means that not only a new object is created, but the entire object tree is recursively copied, including all nested objects.')\n",
    "list3 = [6, [7, 8]]\n",
    "list4 = copy.deepcopy(list3)\n",
    "list3[0] = 9\n",
    "list4[1].append(10)\n",
    "print('list3 ->',list3)  \n",
    "print('list4 ->',list4)"
   ]
  }
 ],
 "metadata": {
  "kernelspec": {
   "display_name": "Python 3 (ipykernel)",
   "language": "python",
   "name": "python3"
  },
  "language_info": {
   "codemirror_mode": {
    "name": "ipython",
    "version": 3
   },
   "file_extension": ".py",
   "mimetype": "text/x-python",
   "name": "python",
   "nbconvert_exporter": "python",
   "pygments_lexer": "ipython3",
   "version": "3.10.6"
  }
 },
 "nbformat": 4,
 "nbformat_minor": 5
}
